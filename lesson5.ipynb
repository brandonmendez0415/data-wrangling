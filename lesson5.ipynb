{
 "cells": [
  {
   "cell_type": "markdown",
   "metadata": {},
   "source": [
    "# Lesson 5\n",
    "\n",
    "In this assignment you will scrape a news webpage to today's headlines. We will then use those headlines to analyze the sentiment in today's news.\n",
    "\n",
    "### What is Webscraping?\n",
    "\n",
    "Previously, we have been exclusively dealing with readily accessible and easily digestable data. Through either downloading or API access, we have recieved data. However, sometimes data will exist soley on the face, or HTML text, of a website. This moduele will teach you about how to scrape data off of that webpage.  Make a beware statement: some websites actively try to keep you from scraping, some consistently change so your program might work today but not tomorrow.\n",
    "\n",
    "Web Scraping is a tool employed to extract large amounts of data from websites. The data is extracted and saved to a local file or program on your computer or to a database or table.\n",
    "\n",
    "While webs browsers offer the ability to view most websites, they do not offer the additional functionality to save a copy of the data from these websites. The only option is to manually copy and paste the data, a very tedious task which can take up to days to complete. Web Scraping enables the automation of this proccess, so instead of manually copying the data from websites, the scraping program will have the same result in a fraction of the time.\n",
    "\n",
    "Note that some webpages will actively try to prevent you from scraping them. So not every webpage can be scraped. \n",
    "\n",
    "**Beware!** A lot of webpages constantly change the structure of their HTML, so while your webscraping program may work today, due to a change in the webpage, it might not work tomorrow.\n",
    "\n",
    "\n",
    "### Getting Started\n",
    "\n",
    " Before begining this moduele we will provide context on the important libraries and skills below.\n",
    "\n",
    "\n",
    " - **HTML Structure** is how a web page is layed out. There is a heirarchy of sections, often referred to as 'Div', that outline how a webpage is layed out. Most of these 'Div' will have a given class or id that can be used to identify that given section.\n",
    " \n",
    " \n",
    "  - **Google Chrome's Inspect Feature** allows developers to see a webpage's HTML structure. When on a webpage opened through Google Chrome, right click your mouse and click 'Inspect'. A tool kit on the right side of your browser will open. Ensure that the Elements' is selected on the top tab of the inspection kit. Use this to view the HTML structure of your page. For further help refer to https://developers.google.com/web/tools/chrome-devtools/dom/.\n",
    "  \n",
    "  \n",
    "  - **BeautifulSoup** is a Python library that makes it easy to scrape information from web pages. In order to import BeautifulSoup you will first need to `pip install beautifulsoup4`. Then run the cell below to import the package.\n",
    "  \n",
    "  \n",
    "  - **Requests** is a Python library that allows developers make HTTP requests to webpages. In order to import requests, `pip install requests==2.7.0`. Then import requests as we have done in previous modueles. For further help refer to https://pypi.org/project/requests/2.7.0/.\n",
    "    \n",
    "  \n",
    "  - **TextBlob** is a Python library for processing text. It will be the API we use to analyze text for its sentiment analysis. To install `pip install -U textblob`. Then import requests as we have done in previous modueles. For further help refer to https://textblob.readthedocs.io/en/dev/.\n",
    "  \n",
    "  \n",
    "On top of requests and textblob, please import numpy and matplotlib as we have done in previous modueles."
   ]
  },
  {
   "cell_type": "code",
   "execution_count": 3,
   "metadata": {},
   "outputs": [],
   "source": [
    "#Importing BeautifulSoup\n",
    "from bs4 import BeautifulSoup\n",
    "\n",
    "#Import requests, textblob, numpy, and matplotlib\n",
    "from textblob import TextBlob"
   ]
  },
  {
   "cell_type": "markdown",
   "metadata": {},
   "source": [
    "### Accessing Webpage's Data\n",
    "\n",
    "In the cell below, we have given you with a news webpage that provides its users with summaries of today's news segments. Go to the webpage and, through using Google Chrome's inspect feature, familiarize yourself with the HTML hierarchy of the webpage. "
   ]
  },
  {
   "cell_type": "code",
   "execution_count": null,
   "metadata": {},
   "outputs": [],
   "source": [
    "#Url of the news page\n",
    "\n",
    "web_page_to_scrape = 'https://www.kmov.com/news/local/'"
   ]
  },
  {
   "cell_type": "markdown",
   "metadata": {},
   "source": [
    "Now, lets access the webpages data through a simple HTTP request. Requests are made through a get function call in which the parameter given is the url of the website. In the cell below, change the holder `PARAMETER` to be the url of the webpage. Then we will turn that data into a BeautifulSoup object which will let use easily interact with and dissect data from the webpage."
   ]
  },
  {
   "cell_type": "code",
   "execution_count": null,
   "metadata": {},
   "outputs": [],
   "source": [
    "#Update PARAMETER to be the url of the webpage we are trying to scrape.\n",
    "\n",
    "raw_data = requests.get(PARAMETER)\n",
    "friendly_data = BeautifulSoup(raw_data.text, 'html.parser')"
   ]
  },
  {
   "cell_type": "markdown",
   "metadata": {},
   "source": [
    "### Accesing Specific Data\n",
    "\n",
    "Our `friendly_data` variable contains the HTML of our webpage. However, for this module we want to examine just the summaries of today's news. Through either correctly filling in the `TOP_LAYER`, `SUMMARY_TAG`, `SUMMARY_TAG_DESCRIPTION` parameters in the cell below, you should be able to succesfully fill the `todays_summaries` array in the program two cells below. \n",
    "\n",
    "**Try This!** find another heirarchy structure that enables you to access the same summary data."
   ]
  },
  {
   "cell_type": "code",
   "execution_count": null,
   "metadata": {},
   "outputs": [],
   "source": [
    "#Saving the summaries\n",
    "\n",
    "todays_summaries = []\n",
    "TOP_LAYER = '' #summary\n",
    "SUMMARY_TAG = '' #img\n",
    "SUMMARY_TAG_DESCRIPTION = '' #alt"
   ]
  },
  {
   "cell_type": "code",
   "execution_count": null,
   "metadata": {},
   "outputs": [],
   "source": [
    "#Running this should properly fill todays_summaries array\n",
    "\n",
    "top_layer= html_data.find_all(class_ = TOP_LAYER)\n",
    "for summary in top_layer:\n",
    "    imgs = summary.find_all(SUMMARY_TAG)\n",
    "    for img in imgs:    \n",
    "        todays_summaries.append(img[SUMMARY_TAG_DESCRIPTION])"
   ]
  },
  {
   "cell_type": "markdown",
   "metadata": {},
   "source": [
    "### Using TextBlob to Analyze Sentiment\n",
    "\n",
    "In the cell below we have provided you with an example of how to use text as TextBlob input to get the text's sentiment. The sentiment property returns a namedtuple of the form Sentiment(polarity, subjectivity). The polarity score is a float within the range [-1.0, 1.0] where -1.0 is very negative and 1.0 is very positive. The subjectivity is a float within the range [0.0, 1.0] where 0.0 is very objective and 1.0 is very subjective."
   ]
  },
  {
   "cell_type": "code",
   "execution_count": 6,
   "metadata": {},
   "outputs": [
    {
     "data": {
      "text/plain": [
       "Sentiment(polarity=0.2949494949494949, subjectivity=0.5702020202020203)"
      ]
     },
     "execution_count": 6,
     "metadata": {},
     "output_type": "execute_result"
    }
   ],
   "source": [
    "#Example of how to use TextBlob\n",
    "\n",
    "example_text = \"I love that Data Wrangling class. Not only is it super fun, but I am learning a lot of new interesting information\"\n",
    "example_polarity = TextBlob(example_text)\n",
    "example_polarity.sentiment"
   ]
  },
  {
   "cell_type": "markdown",
   "metadata": {},
   "source": [
    "Using the example and cells above, fill the `polarities` array with the polarities of the summaries we had collected above."
   ]
  },
  {
   "cell_type": "code",
   "execution_count": null,
   "metadata": {},
   "outputs": [],
   "source": [
    "#Extracting polarity from text\n",
    "\n",
    "polarities = []"
   ]
  },
  {
   "cell_type": "markdown",
   "metadata": {},
   "source": [
    "### Visualizing Data\n",
    "\n",
    "For the last section of the moduele we want you to decide how to graphically represent the data. Some ideas you can choose from, but are not limited to are:\n",
    "\n",
    " - A pie chart that represents the ratio of today's news that are positive vs negative\n",
    " - A pie chart that represents the the magnitude how positive vs negative today's news was\n",
    " - A scatter plot analyzing possible outliers in today's sentiment\n",
    " \n",
    "In the cell(s) below please choose a visual representation of the data that you think helps you best understand today's sentiment.\n"
   ]
  },
  {
   "cell_type": "code",
   "execution_count": null,
   "metadata": {},
   "outputs": [],
   "source": []
  }
 ],
 "metadata": {
  "kernelspec": {
   "display_name": "Python 3",
   "language": "python",
   "name": "python3"
  },
  "language_info": {
   "codemirror_mode": {
    "name": "ipython",
    "version": 3
   },
   "file_extension": ".py",
   "mimetype": "text/x-python",
   "name": "python",
   "nbconvert_exporter": "python",
   "pygments_lexer": "ipython3",
   "version": "3.7.3"
  }
 },
 "nbformat": 4,
 "nbformat_minor": 2
}
